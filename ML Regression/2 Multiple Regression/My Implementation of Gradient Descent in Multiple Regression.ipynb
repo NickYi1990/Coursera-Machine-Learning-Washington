{
 "cells": [
  {
   "cell_type": "markdown",
   "metadata": {},
   "source": [
    "# Import Libraries"
   ]
  },
  {
   "cell_type": "code",
   "execution_count": 70,
   "metadata": {
    "collapsed": true
   },
   "outputs": [],
   "source": [
    "from sklearn import datasets\n",
    "from sklearn import linear_model\n",
    "import numpy as np\n",
    "import time"
   ]
  },
  {
   "cell_type": "markdown",
   "metadata": {},
   "source": [
    "# Create simulation data "
   ]
  },
  {
   "cell_type": "code",
   "execution_count": 4,
   "metadata": {
    "collapsed": false
   },
   "outputs": [],
   "source": [
    "x, y, coef = datasets.make_regression(n_samples=1000, n_features=10, coef=True)"
   ]
  },
  {
   "cell_type": "code",
   "execution_count": 7,
   "metadata": {
    "collapsed": false
   },
   "outputs": [
    {
     "name": "stdout",
     "output_type": "stream",
     "text": [
      "[ 66.80317767  15.66194417  62.54051491  85.39753663  69.98099244\n",
      "  69.96270624  38.32156763  42.76852485  84.75580156  96.16121731]\n"
     ]
    }
   ],
   "source": [
    "print coef"
   ]
  },
  {
   "cell_type": "markdown",
   "metadata": {},
   "source": [
    "# Implement Gradient Descent"
   ]
  },
  {
   "cell_type": "code",
   "execution_count": 23,
   "metadata": {
    "collapsed": false
   },
   "outputs": [],
   "source": [
    "intercept = np.ones((x.shape[0],1))"
   ]
  },
  {
   "cell_type": "code",
   "execution_count": 26,
   "metadata": {
    "collapsed": false
   },
   "outputs": [],
   "source": [
    "x_new = np.concatenate((intercept, x), axis=1)"
   ]
  },
  {
   "cell_type": "code",
   "execution_count": 84,
   "metadata": {
    "collapsed": false
   },
   "outputs": [],
   "source": [
    "step_size = 7e-5\n",
    "go_on = True\n",
    "w = np.ones(len(coef)+1)\n",
    "\n",
    "epsilon = 0.01\n",
    "while go_on:\n",
    "    deri = -2*np.dot(x_new.T, y - np.dot(x_new,w))\n",
    "    w = w - step_size*deri\n",
    "    stop_condition = (deri**2).sum()\n",
    "    if stop_condition < epsilon:\n",
    "        go_on = False"
   ]
  },
  {
   "cell_type": "code",
   "execution_count": 85,
   "metadata": {
    "collapsed": false
   },
   "outputs": [
    {
     "data": {
      "text/plain": [
       "array([  1.89051843e-05,   6.68031654e+01,   1.56619310e+01,\n",
       "         6.25405290e+01,   8.53975294e+01,   6.99809919e+01,\n",
       "         6.99627005e+01,   3.83215684e+01,   4.27684997e+01,\n",
       "         8.47558025e+01,   9.61611861e+01])"
      ]
     },
     "execution_count": 85,
     "metadata": {},
     "output_type": "execute_result"
    }
   ],
   "source": [
    "w"
   ]
  },
  {
   "cell_type": "markdown",
   "metadata": {},
   "source": [
    "# Use linear model in sklearn to verify"
   ]
  },
  {
   "cell_type": "code",
   "execution_count": 86,
   "metadata": {
    "collapsed": false
   },
   "outputs": [],
   "source": [
    "lr = linear_model.LinearRegression()\n",
    "lr_model = lr.fit(x_new,y)"
   ]
  },
  {
   "cell_type": "code",
   "execution_count": 87,
   "metadata": {
    "collapsed": false
   },
   "outputs": [
    {
     "data": {
      "text/plain": [
       "array([  0.        ,  66.80317767,  15.66194417,  62.54051491,\n",
       "        85.39753663,  69.98099244,  69.96270624,  38.32156763,\n",
       "        42.76852485,  84.75580156,  96.16121731])"
      ]
     },
     "execution_count": 87,
     "metadata": {},
     "output_type": "execute_result"
    }
   ],
   "source": [
    "lr_model.coef_"
   ]
  },
  {
   "cell_type": "code",
   "execution_count": null,
   "metadata": {
    "collapsed": true
   },
   "outputs": [],
   "source": []
  }
 ],
 "metadata": {
  "kernelspec": {
   "display_name": "Python 2",
   "language": "python",
   "name": "python2"
  },
  "language_info": {
   "codemirror_mode": {
    "name": "ipython",
    "version": 2
   },
   "file_extension": ".py",
   "mimetype": "text/x-python",
   "name": "python",
   "nbconvert_exporter": "python",
   "pygments_lexer": "ipython2",
   "version": "2.7.10"
  }
 },
 "nbformat": 4,
 "nbformat_minor": 0
}
