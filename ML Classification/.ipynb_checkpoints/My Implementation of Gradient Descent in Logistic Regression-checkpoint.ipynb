{
 "cells": [
  {
   "cell_type": "markdown",
   "metadata": {},
   "source": [
    "# Import Libraries"
   ]
  },
  {
   "cell_type": "code",
   "execution_count": 111,
   "metadata": {
    "collapsed": true
   },
   "outputs": [],
   "source": [
    "import numpy as np\n",
    "import time\n",
    "from sklearn import datasets\n",
    "import pandas as pd\n",
    "from sklearn import metrics"
   ]
  },
  {
   "cell_type": "markdown",
   "metadata": {},
   "source": [
    "# Create simulation data"
   ]
  },
  {
   "cell_type": "code",
   "execution_count": 4,
   "metadata": {
    "collapsed": true
   },
   "outputs": [],
   "source": [
    "x, y = datasets.make_classification(n_samples=1000, n_features=10, random_state=0)"
   ]
  },
  {
   "cell_type": "markdown",
   "metadata": {},
   "source": [
    "## create some utility functions"
   ]
  },
  {
   "cell_type": "code",
   "execution_count": 31,
   "metadata": {
    "collapsed": true
   },
   "outputs": [],
   "source": [
    "def score(hw):\n",
    "    return 1/(1+np.exp(-hw))\n",
    "\n",
    "def ss(x):\n",
    "    return np.sqrt(np.nansum((np.power(x,2))))"
   ]
  },
  {
   "cell_type": "markdown",
   "metadata": {},
   "source": [
    "# Build model"
   ]
  },
  {
   "cell_type": "code",
   "execution_count": 140,
   "metadata": {
    "collapsed": false
   },
   "outputs": [
    {
     "name": "stdout",
     "output_type": "stream",
     "text": [
      "1 656.957820052\n",
      "50 17.1180404946\n",
      "100 6.10560625083\n",
      "150 2.72352916442\n",
      "200 1.31286704194\n",
      "250 0.654584141575\n",
      "300 0.331645636951\n",
      "350 0.169366754071\n",
      "400 0.0868400501825\n",
      "450 0.0446167045476\n",
      "500 0.0229471294957\n",
      "550 0.0118084270204\n",
      "600 0.00607820606609\n",
      "650 0.00312910663872\n",
      "700 0.00161100540742\n",
      "736 0.000998883468679\n"
     ]
    }
   ],
   "source": [
    "# set initial parameters\n",
    "step_size = 7e-4\n",
    "epsilon = 1e-3\n",
    "go_on = True\n",
    "w = np.zeros(x.shape[1])\n",
    "iter_cnt = 0\n",
    "\n",
    "while go_on:\n",
    "    # update derivatives\n",
    "    deri = np.dot(x.T, np.apply_along_axis(lambda x: x==1,0,y).astype(int) - score(np.dot(x,w)))\n",
    "    \n",
    "    # update weights\n",
    "    w = w + step_size*deri\n",
    "    \n",
    "    # compute square root sum squared of derivatives\n",
    "    stop_condition = ss(deri)\n",
    "    \n",
    "    # compute iteration times\n",
    "    iter_cnt = iter_cnt+1\n",
    "    \n",
    "    # print useful informations\n",
    "    if (iter_cnt % 50) == 0 or iter_cnt == 1:\n",
    "        print iter_cnt, stop_condition\n",
    "    \n",
    "    # if the derivative is enough small, we stop\n",
    "    if stop_condition < epsilon:\n",
    "        print iter_cnt, stop_condition \n",
    "        go_on = False"
   ]
  },
  {
   "cell_type": "code",
   "execution_count": 143,
   "metadata": {
    "collapsed": false
   },
   "outputs": [],
   "source": [
    "# predict y using our model\n",
    "y_hat = (score(np.dot(x, w)) >= 0.5).astype(int)"
   ]
  },
  {
   "cell_type": "code",
   "execution_count": 165,
   "metadata": {
    "collapsed": false
   },
   "outputs": [
    {
     "name": "stdout",
     "output_type": "stream",
     "text": [
      "    0.94\n"
     ]
    }
   ],
   "source": [
    "# compute accuracy\n",
    "print (\"%8.2f\"% ((np.trace(c)+0.0) / np.nansum(c)))"
   ]
  },
  {
   "cell_type": "code",
   "execution_count": 145,
   "metadata": {
    "collapsed": false
   },
   "outputs": [
    {
     "data": {
      "text/plain": [
       "array([[482,  17],\n",
       "       [ 43, 458]])"
      ]
     },
     "execution_count": 145,
     "metadata": {},
     "output_type": "execute_result"
    }
   ],
   "source": [
    "# compute confusion matrix\n",
    "c = metrics.confusion_matrix(y, y_hat)\n",
    "c"
   ]
  },
  {
   "cell_type": "code",
   "execution_count": 142,
   "metadata": {
    "collapsed": false
   },
   "outputs": [
    {
     "name": "stdout",
     "output_type": "stream",
     "text": [
      "[499 501]\n",
      "[525 475]\n"
     ]
    }
   ],
   "source": [
    "print np.bincount(y)\n",
    "print np.bincount(y_hat)"
   ]
  },
  {
   "cell_type": "code",
   "execution_count": null,
   "metadata": {
    "collapsed": true
   },
   "outputs": [],
   "source": []
  }
 ],
 "metadata": {
  "kernelspec": {
   "display_name": "Python 2",
   "language": "python",
   "name": "python2"
  },
  "language_info": {
   "codemirror_mode": {
    "name": "ipython",
    "version": 2
   },
   "file_extension": ".py",
   "mimetype": "text/x-python",
   "name": "python",
   "nbconvert_exporter": "python",
   "pygments_lexer": "ipython2",
   "version": "2.7.10"
  }
 },
 "nbformat": 4,
 "nbformat_minor": 0
}
